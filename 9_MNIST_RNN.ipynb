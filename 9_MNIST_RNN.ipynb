{
  "nbformat": 4,
  "nbformat_minor": 0,
  "metadata": {
    "colab": {
      "name": "9.MNIST_RNN.ipynb",
      "provenance": []
    },
    "kernelspec": {
      "name": "python3",
      "display_name": "Python 3"
    }
  },
  "cells": [
    {
      "cell_type": "code",
      "metadata": {
        "id": "27oeXOJCxXr0",
        "colab_type": "code",
        "colab": {
          "base_uri": "https://localhost:8080/",
          "height": 935
        },
        "outputId": "2f2152d3-7549-4bc5-f0d3-39ec847f2c3b"
      },
      "source": [
        "from keras.datasets import mnist\n",
        "from keras.layers import Dense, LSTM\n",
        "from keras.utils import to_categorical\n",
        "from keras.models import Sequential\n",
        "\n",
        "#parameters for LSTM\n",
        "nb_lstm_outputs = 30  \n",
        "nb_time_steps = 28  \n",
        "nb_input_vector = 28 \n",
        "\n",
        "#data preprocessing: tofloat32, normalization, one_hot encoding\n",
        "(x_train, y_train), (x_test, y_test) = mnist.load_data()\n",
        "x_train = x_train.astype('float32')\n",
        "x_test = x_test.astype('float32')\n",
        "x_train /= 255\n",
        "x_test /= 255\n",
        " \n",
        "y_train = to_categorical(y_train, num_classes=10)\n",
        "y_test = to_categorical(y_test, num_classes=10)\n",
        "\n",
        "#build model\n",
        "model = Sequential()\n",
        "model.add(LSTM(units=nb_lstm_outputs, input_shape=(nb_time_steps, nb_input_vector)))\n",
        "model.add(Dense(10, activation='softmax'))\n",
        "\n",
        "#compile:loss, optimizer, metrics\n",
        "model.compile(loss='categorical_crossentropy', optimizer='adam', metrics=['accuracy'])\n",
        "#train: epcoch, batch_size\n",
        "model.fit(x_train, y_train, epochs=20, batch_size=128, verbose=1)\n",
        "\n",
        "model.summary()\n",
        "\n",
        "score = model.evaluate(x_test, y_test,batch_size=128, verbose=1)\n",
        "print(score)"
      ],
      "execution_count": 3,
      "outputs": [
        {
          "output_type": "stream",
          "text": [
            "Epoch 1/20\n",
            "60000/60000 [==============================] - 10s 173us/step - loss: 0.9541 - accuracy: 0.7009\n",
            "Epoch 2/20\n",
            "60000/60000 [==============================] - 10s 166us/step - loss: 0.2937 - accuracy: 0.9150\n",
            "Epoch 3/20\n",
            "60000/60000 [==============================] - 10s 167us/step - loss: 0.2069 - accuracy: 0.9395\n",
            "Epoch 4/20\n",
            "60000/60000 [==============================] - 10s 166us/step - loss: 0.1645 - accuracy: 0.9520\n",
            "Epoch 5/20\n",
            "60000/60000 [==============================] - 10s 166us/step - loss: 0.1419 - accuracy: 0.9583\n",
            "Epoch 6/20\n",
            "60000/60000 [==============================] - 10s 165us/step - loss: 0.1262 - accuracy: 0.9629\n",
            "Epoch 7/20\n",
            "60000/60000 [==============================] - 10s 167us/step - loss: 0.1155 - accuracy: 0.9660\n",
            "Epoch 8/20\n",
            "60000/60000 [==============================] - 10s 165us/step - loss: 0.1051 - accuracy: 0.9685\n",
            "Epoch 9/20\n",
            "60000/60000 [==============================] - 10s 173us/step - loss: 0.0984 - accuracy: 0.9708\n",
            "Epoch 10/20\n",
            "60000/60000 [==============================] - 10s 169us/step - loss: 0.0923 - accuracy: 0.9721\n",
            "Epoch 11/20\n",
            "60000/60000 [==============================] - 10s 166us/step - loss: 0.0857 - accuracy: 0.9747\n",
            "Epoch 12/20\n",
            "60000/60000 [==============================] - 10s 165us/step - loss: 0.0814 - accuracy: 0.9757\n",
            "Epoch 13/20\n",
            "60000/60000 [==============================] - 10s 165us/step - loss: 0.0769 - accuracy: 0.9771\n",
            "Epoch 14/20\n",
            "60000/60000 [==============================] - 10s 167us/step - loss: 0.0727 - accuracy: 0.9787\n",
            "Epoch 15/20\n",
            "60000/60000 [==============================] - 10s 167us/step - loss: 0.0692 - accuracy: 0.9789\n",
            "Epoch 16/20\n",
            "60000/60000 [==============================] - 10s 167us/step - loss: 0.0684 - accuracy: 0.9796\n",
            "Epoch 17/20\n",
            "60000/60000 [==============================] - 10s 166us/step - loss: 0.0627 - accuracy: 0.9817\n",
            "Epoch 18/20\n",
            "60000/60000 [==============================] - 10s 166us/step - loss: 0.0609 - accuracy: 0.9820\n",
            "Epoch 19/20\n",
            "60000/60000 [==============================] - 10s 167us/step - loss: 0.0610 - accuracy: 0.9819\n",
            "Epoch 20/20\n",
            "60000/60000 [==============================] - 10s 163us/step - loss: 0.0579 - accuracy: 0.9825\n",
            "Model: \"sequential_2\"\n",
            "_________________________________________________________________\n",
            "Layer (type)                 Output Shape              Param #   \n",
            "=================================================================\n",
            "lstm_1 (LSTM)                (None, 30)                7080      \n",
            "_________________________________________________________________\n",
            "dense_3 (Dense)              (None, 10)                310       \n",
            "=================================================================\n",
            "Total params: 7,390\n",
            "Trainable params: 7,390\n",
            "Non-trainable params: 0\n",
            "_________________________________________________________________\n",
            "10000/10000 [==============================] - 0s 49us/step\n",
            "[0.07394042894542217, 0.9767000079154968]\n"
          ],
          "name": "stdout"
        }
      ]
    }
  ]
}