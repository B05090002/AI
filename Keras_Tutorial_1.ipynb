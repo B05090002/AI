{
  "nbformat": 4,
  "nbformat_minor": 0,
  "metadata": {
    "colab": {
      "name": "Keras_Tutorial_1.ipynb",
      "provenance": []
    },
    "kernelspec": {
      "name": "python3",
      "display_name": "Python 3"
    }
  },
  "cells": [
    {
      "cell_type": "code",
      "metadata": {
        "id": "Ski8qPA4zf_F",
        "colab_type": "code",
        "colab": {
          "base_uri": "https://localhost:8080/",
          "height": 490
        },
        "outputId": "5408f59e-aa2e-4e5f-b2b8-a27a0e7821f8"
      },
      "source": [
        "import keras\n",
        "from keras.models import Sequential\n",
        "from keras.layers import Dense\n",
        "\n",
        "import numpy as np\n",
        "data = np.random.random((1000, 10)) #隨機產生1000筆資料，每筆資料1包含十個float數字\n",
        "labels = np.random.randint(2, size=(1000, 1)) #隨機產生1000筆資料，每筆資料上限為2(意思就是0 或 1)\n",
        "print(np.shape(data))\n",
        "print(data[0])\n",
        "print(np.shape(labels))\n",
        "print(labels[0])\n",
        "\n",
        "model = Sequential()\n",
        "model.add(Dense(32, activation='relu', input_dim=10))\n",
        "model.add(Dense(1, activation='sigmoid'))\n",
        "model.compile(optimizer='rmsprop', loss='binary_crossentropy', metrics=['accuracy'])\n",
        "\n",
        "model.fit(data, labels, epochs=10, batch_size=32)\n",
        "\n",
        "score=model.evaluate(data, labels)\n",
        "print(score[1])"
      ],
      "execution_count": 5,
      "outputs": [
        {
          "output_type": "stream",
          "text": [
            "(1000, 10)\n",
            "[0.65919277 0.73454532 0.22639602 0.13244545 0.40042006 0.92384345\n",
            " 0.54830247 0.50664139 0.93461222 0.21630828]\n",
            "(1000, 1)\n",
            "[0]\n",
            "Epoch 1/10\n",
            "1000/1000 [==============================] - 0s 87us/step - loss: 0.7053 - accuracy: 0.4960\n",
            "Epoch 2/10\n",
            "1000/1000 [==============================] - 0s 29us/step - loss: 0.6993 - accuracy: 0.4890\n",
            "Epoch 3/10\n",
            "1000/1000 [==============================] - 0s 32us/step - loss: 0.6962 - accuracy: 0.4920\n",
            "Epoch 4/10\n",
            "1000/1000 [==============================] - 0s 33us/step - loss: 0.6941 - accuracy: 0.5070\n",
            "Epoch 5/10\n",
            "1000/1000 [==============================] - 0s 29us/step - loss: 0.6928 - accuracy: 0.5110\n",
            "Epoch 6/10\n",
            "1000/1000 [==============================] - 0s 29us/step - loss: 0.6911 - accuracy: 0.5160\n",
            "Epoch 7/10\n",
            "1000/1000 [==============================] - 0s 29us/step - loss: 0.6894 - accuracy: 0.5180\n",
            "Epoch 8/10\n",
            "1000/1000 [==============================] - 0s 33us/step - loss: 0.6885 - accuracy: 0.5570\n",
            "Epoch 9/10\n",
            "1000/1000 [==============================] - 0s 32us/step - loss: 0.6877 - accuracy: 0.5590\n",
            "Epoch 10/10\n",
            "1000/1000 [==============================] - 0s 34us/step - loss: 0.6870 - accuracy: 0.5650\n",
            "1000/1000 [==============================] - 0s 29us/step\n",
            "0.5540000200271606\n"
          ],
          "name": "stdout"
        }
      ]
    }
  ]
}