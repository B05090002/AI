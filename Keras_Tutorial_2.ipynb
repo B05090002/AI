{
  "nbformat": 4,
  "nbformat_minor": 0,
  "metadata": {
    "colab": {
      "name": "Keras_Tutorial_2.ipynb",
      "provenance": []
    },
    "kernelspec": {
      "name": "python3",
      "display_name": "Python 3"
    }
  },
  "cells": [
    {
      "cell_type": "code",
      "metadata": {
        "id": "Ski8qPA4zf_F",
        "colab_type": "code",
        "colab": {
          "base_uri": "https://localhost:8080/",
          "height": 752
        },
        "outputId": "bba7724a-7fdd-4b66-d297-fc9872479cf4"
      },
      "source": [
        "import keras\n",
        "from keras.models import Sequential\n",
        "from keras.layers import Dense, Dropout, Activation\n",
        "from keras.optimizers import SGD\n",
        "\n",
        "# Generate dummy data\n",
        "import numpy as np\n",
        "x_train = np.random.random((1000, 10))\n",
        "y_train = keras.utils.to_categorical(np.random.randint(10, size=(1000, 1)), num_classes=10)\n",
        "x_test = np.random.random((100, 10))\n",
        "y_test = keras.utils.to_categorical(np.random.randint(10, size=(100, 1)), num_classes=10)\n",
        "\n",
        "model = Sequential()\n",
        "model.add(Dense(64, activation='relu', input_dim=10))\n",
        "model.add(Dense(64, activation='relu'))\n",
        "model.add(Dense(10, activation='softmax'))\n",
        "sgd = SGD(lr=0.01, decay=1e-6, momentum=0.9, nesterov=True)\n",
        "model.compile(loss='categorical_crossentropy', optimizer=sgd, metrics=['accuracy'])\n",
        "\n",
        "model.fit(x_train, y_train, epochs=20, batch_size=128)\n",
        "score = model.evaluate(x_test, y_test, batch_size=128)\n",
        "print(score)"
      ],
      "execution_count": 4,
      "outputs": [
        {
          "output_type": "stream",
          "text": [
            "Epoch 1/20\n",
            "1000/1000 [==============================] - 0s 66us/step - loss: 2.3336 - accuracy: 0.0990\n",
            "Epoch 2/20\n",
            "1000/1000 [==============================] - 0s 13us/step - loss: 2.3138 - accuracy: 0.1080\n",
            "Epoch 3/20\n",
            "1000/1000 [==============================] - 0s 14us/step - loss: 2.3036 - accuracy: 0.1110\n",
            "Epoch 4/20\n",
            "1000/1000 [==============================] - 0s 13us/step - loss: 2.2994 - accuracy: 0.1180\n",
            "Epoch 5/20\n",
            "1000/1000 [==============================] - 0s 13us/step - loss: 2.2988 - accuracy: 0.1230\n",
            "Epoch 6/20\n",
            "1000/1000 [==============================] - 0s 12us/step - loss: 2.2971 - accuracy: 0.1250\n",
            "Epoch 7/20\n",
            "1000/1000 [==============================] - 0s 12us/step - loss: 2.2959 - accuracy: 0.1240\n",
            "Epoch 8/20\n",
            "1000/1000 [==============================] - 0s 13us/step - loss: 2.2947 - accuracy: 0.1180\n",
            "Epoch 9/20\n",
            "1000/1000 [==============================] - 0s 12us/step - loss: 2.2939 - accuracy: 0.1250\n",
            "Epoch 10/20\n",
            "1000/1000 [==============================] - 0s 12us/step - loss: 2.2931 - accuracy: 0.1240\n",
            "Epoch 11/20\n",
            "1000/1000 [==============================] - 0s 13us/step - loss: 2.2921 - accuracy: 0.1300\n",
            "Epoch 12/20\n",
            "1000/1000 [==============================] - 0s 13us/step - loss: 2.2914 - accuracy: 0.1280\n",
            "Epoch 13/20\n",
            "1000/1000 [==============================] - 0s 11us/step - loss: 2.2903 - accuracy: 0.1350\n",
            "Epoch 14/20\n",
            "1000/1000 [==============================] - 0s 12us/step - loss: 2.2897 - accuracy: 0.1310\n",
            "Epoch 15/20\n",
            "1000/1000 [==============================] - 0s 12us/step - loss: 2.2888 - accuracy: 0.1390\n",
            "Epoch 16/20\n",
            "1000/1000 [==============================] - 0s 13us/step - loss: 2.2883 - accuracy: 0.1350\n",
            "Epoch 17/20\n",
            "1000/1000 [==============================] - 0s 13us/step - loss: 2.2874 - accuracy: 0.1420\n",
            "Epoch 18/20\n",
            "1000/1000 [==============================] - 0s 13us/step - loss: 2.2869 - accuracy: 0.1410\n",
            "Epoch 19/20\n",
            "1000/1000 [==============================] - 0s 13us/step - loss: 2.2866 - accuracy: 0.1410\n",
            "Epoch 20/20\n",
            "1000/1000 [==============================] - 0s 13us/step - loss: 2.2855 - accuracy: 0.1380\n",
            "100/100 [==============================] - 0s 157us/step\n",
            "[2.301669120788574, 0.12999999523162842]\n"
          ],
          "name": "stdout"
        }
      ]
    }
  ]
}