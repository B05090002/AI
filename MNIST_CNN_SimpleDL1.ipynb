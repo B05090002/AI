{
  "nbformat": 4,
  "nbformat_minor": 0,
  "metadata": {
    "colab": {
      "name": "MNIST_CNN_SimpleDL1.ipynb",
      "provenance": []
    },
    "kernelspec": {
      "name": "python3",
      "display_name": "Python 3"
    }
  },
  "cells": [
    {
      "cell_type": "code",
      "metadata": {
        "id": "Ski8qPA4zf_F",
        "colab_type": "code",
        "outputId": "cd3b492d-32ab-4d1e-91e6-5df10c61c2d2",
        "colab": {
          "base_uri": "https://localhost:8080/",
          "height": 262
        }
      },
      "source": [
        "import keras\n",
        "from keras.models import Sequential\n",
        "from keras.layers import Dense, Dropout, Flatten\n",
        "\n",
        "model = Sequential()\n",
        "model.add(Flatten())\n",
        "model.add(Dense(512, activation='relu'))\n",
        "model.add(Dropout(0.2))\n",
        "model.add(Dense(10, activation='softmax'))\n",
        "model.compile(optimizer='adam', loss='sparse_categorical_crossentropy', metrics=['accuracy'])\n",
        "\n",
        "import tensorflow as tf\n",
        "mnist = tf.keras.datasets.mnist\n",
        "(x_train, y_train),(x_test, y_test) = mnist.load_data()\n",
        "x_train, x_test = x_train / 255.0, x_test / 255.0\n",
        "\n",
        "model.fit(x_train, y_train, epochs=5)\n",
        "model.evaluate(x_test, y_test)"
      ],
      "execution_count": 7,
      "outputs": [
        {
          "output_type": "stream",
          "text": [
            "Downloading data from https://storage.googleapis.com/tensorflow/tf-keras-datasets/mnist.npz\n",
            "11493376/11490434 [==============================] - 0s 0us/step\n",
            "Epoch 1/5\n",
            "60000/60000 [==============================] - 11s 178us/step - loss: 0.2179 - accuracy: 0.9354\n",
            "Epoch 2/5\n",
            "60000/60000 [==============================] - 10s 171us/step - loss: 0.0956 - accuracy: 0.9706\n",
            "Epoch 3/5\n",
            "60000/60000 [==============================] - 10s 172us/step - loss: 0.0673 - accuracy: 0.9794\n",
            "Epoch 4/5\n",
            "60000/60000 [==============================] - 10s 172us/step - loss: 0.0533 - accuracy: 0.9827\n",
            "Epoch 5/5\n",
            "60000/60000 [==============================] - 10s 170us/step - loss: 0.0436 - accuracy: 0.9865\n",
            "10000/10000 [==============================] - 0s 47us/step\n"
          ],
          "name": "stdout"
        },
        {
          "output_type": "execute_result",
          "data": {
            "text/plain": [
              "[0.061481045144761444, 0.9819999933242798]"
            ]
          },
          "metadata": {
            "tags": []
          },
          "execution_count": 7
        }
      ]
    }
  ]
}