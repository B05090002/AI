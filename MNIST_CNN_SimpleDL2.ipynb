{
  "nbformat": 4,
  "nbformat_minor": 0,
  "metadata": {
    "colab": {
      "name": "MNIST_CNN_SimpleDL2.ipynb",
      "provenance": []
    },
    "kernelspec": {
      "name": "python3",
      "display_name": "Python 3"
    }
  },
  "cells": [
    {
      "cell_type": "code",
      "metadata": {
        "id": "Ski8qPA4zf_F",
        "colab_type": "code",
        "outputId": "b766d1ed-a2c9-436c-a6aa-3bf561db8547",
        "colab": {
          "base_uri": "https://localhost:8080/",
          "height": 735
        }
      },
      "source": [
        "import keras\n",
        "from keras.datasets import mnist\n",
        "from keras.models import Sequential\n",
        "from keras.layers import Dense, Dropout, LeakyReLU, Conv2D\n",
        "from keras.optimizers import RMSprop\n",
        "from keras.utils import np_utils\n",
        "import numpy as np\n",
        "\n",
        "(x_train, y_train), (x_test, y_test) = mnist.load_data()\n",
        "num_classes = 10\n",
        "\n",
        "x_train = x_train.reshape(60000, 784)\n",
        "x_test = x_test.reshape(10000, 784)\n",
        "x_train = x_train.astype('float32')\n",
        "x_test = x_test.astype('float32')\n",
        "x_train /= 255\n",
        "x_test /= 255\n",
        "print(x_train.shape[0], 'train samples')\n",
        "print(x_test.shape[0], 'test samples')\n",
        "y_train = keras.utils.to_categorical(y_train, num_classes)\n",
        "y_test = keras.utils.to_categorical(y_test, num_classes)\n",
        "\n",
        "model = Sequential()\n",
        "model.add(Dense(20, activation=LeakyReLU(), input_shape=(784,)))\n",
        "model.add(Dense(20, activation=LeakyReLU()))\n",
        "model.add(Dense(10, activation='softmax'))\n",
        "model.summary()\n",
        "\n",
        "model.compile(loss='categorical_crossentropy',\n",
        "              optimizer=RMSprop(),\n",
        "              metrics=['accuracy'])\n",
        "\n",
        "history = model.fit(x_train, y_train,\n",
        "                    batch_size=128,\n",
        "                    epochs=10,\n",
        "                    verbose=1,\n",
        "                    validation_data=(x_test, y_test))\n",
        "\n",
        "scores = model.evaluate(x_test, y_test)\n",
        "print(scores[1])"
      ],
      "execution_count": 11,
      "outputs": [
        {
          "output_type": "stream",
          "text": [
            "60000 train samples\n",
            "10000 test samples\n",
            "Model: \"sequential_5\"\n",
            "_________________________________________________________________\n",
            "Layer (type)                 Output Shape              Param #   \n",
            "=================================================================\n",
            "dense_10 (Dense)             (None, 20)                15700     \n",
            "_________________________________________________________________\n",
            "dense_11 (Dense)             (None, 20)                420       \n",
            "_________________________________________________________________\n",
            "dense_12 (Dense)             (None, 10)                210       \n",
            "=================================================================\n",
            "Total params: 16,330\n",
            "Trainable params: 16,330\n",
            "Non-trainable params: 0\n",
            "_________________________________________________________________\n"
          ],
          "name": "stdout"
        },
        {
          "output_type": "stream",
          "text": [
            "/usr/local/lib/python3.6/dist-packages/keras/activations.py:235: UserWarning: Do not pass a layer instance (such as LeakyReLU) as the activation argument of another layer. Instead, advanced activation layers should be used just like any other layer in a model.\n",
            "  identifier=identifier.__class__.__name__))\n"
          ],
          "name": "stderr"
        },
        {
          "output_type": "stream",
          "text": [
            "Train on 60000 samples, validate on 10000 samples\n",
            "Epoch 1/10\n",
            "60000/60000 [==============================] - 2s 25us/step - loss: 0.5367 - accuracy: 0.8538 - val_loss: 0.3100 - val_accuracy: 0.9119\n",
            "Epoch 2/10\n",
            "60000/60000 [==============================] - 1s 24us/step - loss: 0.2924 - accuracy: 0.9164 - val_loss: 0.2640 - val_accuracy: 0.9245\n",
            "Epoch 3/10\n",
            "60000/60000 [==============================] - 1s 23us/step - loss: 0.2591 - accuracy: 0.9270 - val_loss: 0.2538 - val_accuracy: 0.9270\n",
            "Epoch 4/10\n",
            "60000/60000 [==============================] - 1s 15us/step - loss: 0.2368 - accuracy: 0.9331 - val_loss: 0.2340 - val_accuracy: 0.9319\n",
            "Epoch 5/10\n",
            "60000/60000 [==============================] - 1s 15us/step - loss: 0.2179 - accuracy: 0.9380 - val_loss: 0.2083 - val_accuracy: 0.9394\n",
            "Epoch 6/10\n",
            "60000/60000 [==============================] - 1s 15us/step - loss: 0.2033 - accuracy: 0.9421 - val_loss: 0.2004 - val_accuracy: 0.9421\n",
            "Epoch 7/10\n",
            "60000/60000 [==============================] - 1s 16us/step - loss: 0.1905 - accuracy: 0.9454 - val_loss: 0.2043 - val_accuracy: 0.9431\n",
            "Epoch 8/10\n",
            "60000/60000 [==============================] - 1s 15us/step - loss: 0.1796 - accuracy: 0.9485 - val_loss: 0.1857 - val_accuracy: 0.9461\n",
            "Epoch 9/10\n",
            "60000/60000 [==============================] - 1s 15us/step - loss: 0.1708 - accuracy: 0.9503 - val_loss: 0.1818 - val_accuracy: 0.9491\n",
            "Epoch 10/10\n",
            "60000/60000 [==============================] - 1s 15us/step - loss: 0.1622 - accuracy: 0.9528 - val_loss: 0.1794 - val_accuracy: 0.9498\n",
            "10000/10000 [==============================] - 0s 18us/step\n",
            "0.9498000144958496\n"
          ],
          "name": "stdout"
        }
      ]
    }
  ]
}